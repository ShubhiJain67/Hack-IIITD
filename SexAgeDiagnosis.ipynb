{
 "cells": [
  {
   "cell_type": "code",
   "execution_count": 1,
   "metadata": {},
   "outputs": [],
   "source": [
    "import numpy as np\n",
    "import pandas as pd\n",
    "from matplotlib import pyplot as plt\n",
    "%matplotlib inline\n"
   ]
  },
  {
   "cell_type": "code",
   "execution_count": 4,
   "metadata": {},
   "outputs": [
    {
     "data": {
      "text/plain": [
       "'Gastroesophageal reflux  |  GERD, heartburn'"
      ]
     },
     "execution_count": 4,
     "metadata": {},
     "output_type": "execute_result"
    }
   ],
   "source": [
    "dataset=pd.read_csv('../data/sex_age_diagnosis.csv')\n",
    "dataset['diagnosis'].loc[1]"
   ]
  },
  {
   "cell_type": "code",
   "execution_count": 5,
   "metadata": {},
   "outputs": [
    {
     "name": "stdout",
     "output_type": "stream",
     "text": [
      "[1 1 1 ... 1 1 1]\n"
     ]
    }
   ],
   "source": [
    "prob=[]\n",
    "for ix in dataset['diagnosis']:\n",
    "    for i in ix.split('|'):\n",
    "        prob.append(i)\n",
    "\n",
    "print (np.unique(prob,return_counts=True)[1])"
   ]
  },
  {
   "cell_type": "code",
   "execution_count": 6,
   "metadata": {},
   "outputs": [
    {
     "data": {
      "text/plain": [
       "array(['13', '13-17', '18-24', '25-34', '35-44', '44-54', '55-64', '65+',\n",
       "       '>65+'], dtype=object)"
      ]
     },
     "execution_count": 6,
     "metadata": {},
     "output_type": "execute_result"
    }
   ],
   "source": [
    "np.unique(dataset['age'])"
   ]
  },
  {
   "cell_type": "code",
   "execution_count": 7,
   "metadata": {},
   "outputs": [],
   "source": [
    "col=[]\n",
    "for ix in dataset.columns:\n",
    "    col.append(ix)\n",
    "    \n",
    "# print col\n",
    "# print dataset['\\xef\\xbb\\xbf\"sex\"']"
   ]
  },
  {
   "cell_type": "code",
   "execution_count": 8,
   "metadata": {},
   "outputs": [
    {
     "name": "stdout",
     "output_type": "stream",
     "text": [
      "(1887, 3)\n"
     ]
    }
   ],
   "source": [
    "print dataset.shape"
   ]
  },
  {
   "cell_type": "code",
   "execution_count": 9,
   "metadata": {},
   "outputs": [],
   "source": [
    "AgeGroups = np.unique(dataset['age'],return_counts=True)"
   ]
  },
  {
   "cell_type": "code",
   "execution_count": 10,
   "metadata": {},
   "outputs": [],
   "source": [
    "bucket={'M':{'13':[], '13-17':[], '18-24':[], '25-34':[], '35-44':[], '44-54':[], '55-64':[], '65+':[],\n",
    "       '>65+':[]},'F':{'13':[], '13-17':[], '18-24':[], '25-34':[], '35-44':[], '44-54':[], '55-64':[], '65+':[],\n",
    "       '>65+':[]}}\n"
   ]
  },
  {
   "cell_type": "code",
   "execution_count": 11,
   "metadata": {},
   "outputs": [],
   "source": [
    "def Add(abc,lis):\n",
    "    for ix in abc.split('|'):\n",
    "        lis.append(ix)\n",
    "    return lis"
   ]
  },
  {
   "cell_type": "code",
   "execution_count": 12,
   "metadata": {},
   "outputs": [],
   "source": [
    "for ix in range(dataset.shape[0]):\n",
    "    curage=dataset['age'].loc[ix]\n",
    "    if dataset['\\xef\\xbb\\xbf\"sex\"'].loc[ix]=='M':\n",
    "        bucket['M'][curage]=Add(dataset['diagnosis'].loc[ix],bucket['M'][curage])\n",
    "    elif dataset['\\xef\\xbb\\xbf\"sex\"'].loc[ix]=='F':\n",
    "        bucket['F'][curage]=Add(dataset['diagnosis'].loc[ix],bucket['F'][curage])\n",
    "        \n",
    "\n",
    "#print np.unique(bucket['M']['13-17'],return_counts=True)"
   ]
  },
  {
   "cell_type": "code",
   "execution_count": 54,
   "metadata": {},
   "outputs": [
    {
     "name": "stdout",
     "output_type": "stream",
     "text": [
      "['1' '1' '1' '1' '1' '1' '2' '1' '1' '1' '1' '1' '1' '1' '1' '1' '1' '1'\n",
      " '1' '1' '1' '1' '1' '1' '1' '2' '1' '1' '1' '1' '1' '1' '1' '1' '1' '1'\n",
      " '1' '1' '1' '1' '1' '1' '2' '1' '1' '1' '1' '1' '1' '1' '7' '1' '1' '1'\n",
      " '1' '1' '1' '7' '1' '1' '2' '1' '1' '1' '1' '1' '1' '2' '1' '1' '1' '1'\n",
      " '1' '1' '1' '1' '1' '1' '1' '1' '2' '1' '1' '1' '1' '1' '1' '1' '1' '1'\n",
      " '1' '1' '1' '1' '2' '1' '1' '1' '1' '1' '7' '1' '1' '2' '1' '1' '1' '2'\n",
      " '1' '2' '1' '1' '1' '1' '1' '1' '1' '1' '1' '1' '1' '2' '1' '1' '1' '1'\n",
      " '1' '1' '1' '1' '1' '1' '7' '1' '1' '1' '1' '12' '1' '1' '1' '1']\n"
     ]
    },
    {
     "ename": "AttributeError",
     "evalue": "'NoneType' object has no attribute 'append'",
     "output_type": "error",
     "traceback": [
      "\u001b[0;31m---------------------------------------------------------------------------\u001b[0m",
      "\u001b[0;31mAttributeError\u001b[0m                            Traceback (most recent call last)",
      "\u001b[0;32m<ipython-input-54-c95e91627d73>\u001b[0m in \u001b[0;36m<module>\u001b[0;34m()\u001b[0m\n\u001b[1;32m      9\u001b[0m \u001b[0;32mprint\u001b[0m \u001b[0marr\u001b[0m\u001b[0;34m[\u001b[0m\u001b[0;36m1\u001b[0m\u001b[0;34m]\u001b[0m\u001b[0;34m\u001b[0m\u001b[0m\n\u001b[1;32m     10\u001b[0m \u001b[0marr1\u001b[0m\u001b[0;34m=\u001b[0m\u001b[0;34m[\u001b[0m\u001b[0;34m]\u001b[0m\u001b[0;34m\u001b[0m\u001b[0m\n\u001b[0;32m---> 11\u001b[0;31m \u001b[0marr1\u001b[0m\u001b[0;34m.\u001b[0m\u001b[0mappend\u001b[0m\u001b[0;34m(\u001b[0m\u001b[0marr\u001b[0m\u001b[0;34m[\u001b[0m\u001b[0;36m1\u001b[0m\u001b[0;34m]\u001b[0m\u001b[0;34m)\u001b[0m\u001b[0;34m.\u001b[0m\u001b[0mappend\u001b[0m\u001b[0;34m(\u001b[0m\u001b[0marr\u001b[0m\u001b[0;34m[\u001b[0m\u001b[0;36m0\u001b[0m\u001b[0;34m]\u001b[0m\u001b[0;34m)\u001b[0m\u001b[0;34m\u001b[0m\u001b[0m\n\u001b[0m\u001b[1;32m     12\u001b[0m \u001b[0msorted_distances\u001b[0m \u001b[0;34m=\u001b[0m \u001b[0msorted\u001b[0m\u001b[0;34m(\u001b[0m\u001b[0marr1\u001b[0m\u001b[0;34m,\u001b[0m\u001b[0mkey\u001b[0m\u001b[0;34m=\u001b[0m\u001b[0;32mlambda\u001b[0m \u001b[0mx\u001b[0m\u001b[0;34m:\u001b[0m\u001b[0mx\u001b[0m\u001b[0;34m[\u001b[0m\u001b[0;36m0\u001b[0m\u001b[0;34m]\u001b[0m\u001b[0;34m)\u001b[0m \u001b[0;31m#returns a list\u001b[0m\u001b[0;34m\u001b[0m\u001b[0m\n\u001b[1;32m     13\u001b[0m \u001b[0;34m\u001b[0m\u001b[0m\n",
      "\u001b[0;31mAttributeError\u001b[0m: 'NoneType' object has no attribute 'append'"
     ]
    }
   ],
   "source": [
    "for ix in bucket:\n",
    "    for i in bucket[ix]:\n",
    "        for ii in bucket[ix][i]:\n",
    "            #print ii\n",
    "            pass\n",
    "k=5            \n",
    "arr=np.asarray(np.unique(bucket['M']['13-17'],return_counts=True))\n",
    "#print arr\n",
    "print arr[1]\n",
    "arr1=[]\n",
    "arr1.append(arr[1]).append(arr[0])\n",
    "sorted_distances = sorted(arr1,key=lambda x:x[0]) #returns a list\n",
    "\n",
    "candidates = np.asarray(sorted_distances)[:k,-1]\n",
    "#print candidates\n"
   ]
  },
  {
   "cell_type": "code",
   "execution_count": null,
   "metadata": {},
   "outputs": [],
   "source": []
  }
 ],
 "metadata": {
  "kernelspec": {
   "display_name": "Python 2",
   "language": "python",
   "name": "python2"
  },
  "language_info": {
   "codemirror_mode": {
    "name": "ipython",
    "version": 2
   },
   "file_extension": ".py",
   "mimetype": "text/x-python",
   "name": "python",
   "nbconvert_exporter": "python",
   "pygments_lexer": "ipython2",
   "version": "2.7.12"
  }
 },
 "nbformat": 4,
 "nbformat_minor": 2
}
