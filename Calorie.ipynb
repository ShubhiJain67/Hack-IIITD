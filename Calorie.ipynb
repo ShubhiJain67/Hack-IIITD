{
 "cells": [
  {
   "cell_type": "code",
   "execution_count": 137,
   "metadata": {},
   "outputs": [],
   "source": [
    "import numpy as np\n",
    "import pandas as pd\n",
    "from matplotlib import pyplot as plt\n",
    "%matplotlib inline\n"
   ]
  },
  {
   "cell_type": "code",
   "execution_count": 138,
   "metadata": {},
   "outputs": [],
   "source": [
    "nut=pd.read_csv('../data/menu.csv')\n",
    "#nut.info()"
   ]
  },
  {
   "cell_type": "code",
   "execution_count": 139,
   "metadata": {},
   "outputs": [],
   "source": [
    "#nut.columns"
   ]
  },
  {
   "cell_type": "code",
   "execution_count": 140,
   "metadata": {},
   "outputs": [],
   "source": [
    "cols_To_drop=['Category',\n",
    "              'Total Fat (% Daily Value)',\n",
    "            'Saturated Fat (% Daily Value)',\n",
    "              'Cholesterol (% Daily Value)',\n",
    "              'Sodium (% Daily Value)',\n",
    "              'Carbohydrates (% Daily Value)',\n",
    "              'Dietary Fiber (% Daily Value)',\n",
    "              'Dietary Fiber',\n",
    "              'Saturated Fat',\n",
    "              'Trans Fat',\n",
    "              'Vitamin A (% Daily Value)',\n",
    "              'Vitamin C (% Daily Value)',\n",
    "       'Calcium (% Daily Value)',\n",
    "             'Calories from Fat','Sodium']\n",
    "\n",
    "nut=nut.drop(cols_To_drop,axis=1)\n",
    "#nut.shape"
   ]
  },
  {
   "cell_type": "code",
   "execution_count": 141,
   "metadata": {},
   "outputs": [],
   "source": [
    "#nut.head()"
   ]
  },
  {
   "cell_type": "code",
   "execution_count": 142,
   "metadata": {},
   "outputs": [],
   "source": [
    "#np.unique(nut['Item'],return_counts=True)"
   ]
  },
  {
   "cell_type": "code",
   "execution_count": 143,
   "metadata": {},
   "outputs": [],
   "source": [
    "def find(foodfind,FoodName):\n",
    "    Bucket=[]\n",
    "\n",
    "    for i in range(FoodName.shape[0]):\n",
    "        foo=FoodName[i]\n",
    "        count=0\n",
    "        for ix in foo.split():\n",
    "            for a in foodfind.split():\n",
    "                if a==ix:\n",
    "                    count+=1\n",
    "        if count==len(foodfind.split()):\n",
    "            Bucket.append([foo,i])\n",
    "\n",
    "\n",
    "    return Bucket"
   ]
  },
  {
   "cell_type": "code",
   "execution_count": 214,
   "metadata": {},
   "outputs": [],
   "source": [
    "foodfind='Smoothie'\n",
    "\n",
    "FoodName=np.asarray((nut['Item']))\n",
    "#print FoodName\n",
    "col=nut.columns\n",
    "col=['Calories', 'Total Fat', 'Cholesterol',\n",
    "       'Carbohydrates', 'Sugars', 'Protein', 'Iron (% Daily Value)']\n",
    "#print col"
   ]
  },
  {
   "cell_type": "code",
   "execution_count": 215,
   "metadata": {},
   "outputs": [],
   "source": [
    "def mean(ix,nut,col):\n",
    "    an=0.0\n",
    "    for i in ix:\n",
    "        an+=nut[col].loc[i]\n",
    "    return an/float(len(vall))"
   ]
  },
  {
   "cell_type": "code",
   "execution_count": 222,
   "metadata": {},
   "outputs": [
    {
     "name": "stdout",
     "output_type": "stream",
     "text": [
      "['Smoothie', 256.6666666666667, 1.0, 5.0, 60.333333333333336, 54.666666666666664, 3.3333333333333335, 2.6666666666666665]\n"
     ]
    }
   ],
   "source": [
    "vall=find(foodfind,FoodName)\n",
    "indexes=[]\n",
    "\n",
    "#print vall\n",
    "for i in vall:\n",
    "    indexes.append(i[1])\n",
    "    \n",
    "ans=[]\n",
    "#ans=pd.DataFrame([], columns=nut.columns)\n",
    "if len(vall)>1:\n",
    "    ans.append(foodfind)\n",
    "    for c in col:\n",
    "        #print c\n",
    "        ans.append(mean(indexes,nut,c))\n",
    "    #print len(vall)\n",
    "#     ans=ans.values\n",
    "#print vall\n",
    "\n",
    "else:\n",
    "    ans=[]\n",
    "    ans=nut.loc[indexes]\n",
    "    ans=ans.values\n",
    "    #print ans\n",
    "    ans=ans[0,1:]\n",
    "    \n",
    "# return ans\n",
    "print ans"
   ]
  }
 ],
 "metadata": {
  "kernelspec": {
   "display_name": "Python 2",
   "language": "python",
   "name": "python2"
  },
  "language_info": {
   "codemirror_mode": {
    "name": "ipython",
    "version": 2
   },
   "file_extension": ".py",
   "mimetype": "text/x-python",
   "name": "python",
   "nbconvert_exporter": "python",
   "pygments_lexer": "ipython2",
   "version": "2.7.12"
  }
 },
 "nbformat": 4,
 "nbformat_minor": 2
}
