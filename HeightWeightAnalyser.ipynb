{
 "cells": [
  {
   "cell_type": "code",
   "execution_count": 1,
   "metadata": {},
   "outputs": [],
   "source": [
    "import sklearn\n",
    "import pandas as pd\n",
    "from sklearn.naive_bayes import GaussianNB"
   ]
  },
  {
   "cell_type": "code",
   "execution_count": 2,
   "metadata": {},
   "outputs": [],
   "source": [
    "ds = pd.read_csv('../data/500_Person_Gender_Height_Weight_Index.csv')\n",
    "\n",
    "def convert_sex_to_num(s):\n",
    "    if s=='Male':\n",
    "        return 0\n",
    "    elif s=='Female':\n",
    "        return 1\n",
    "    else:\n",
    "        return s\n",
    "#mapping function-coloumn mapping\n",
    "#df.Sex = df.Sex.map(convert_sex_to_num)\n",
    "#or df[Sex] = map(convert_sex_to_num(df[Sex])) #not correct find the correct sol\n",
    "li=[0,1]\n",
    "ds.Gender=map(convert_sex_to_num,ds.Gender)\n",
    "#WeHe.head(499)\n",
    " "
   ]
  },
  {
   "cell_type": "code",
   "execution_count": 3,
   "metadata": {},
   "outputs": [
    {
     "name": "stdout",
     "output_type": "stream",
     "text": [
      "(400, 3) (100, 3)\n",
      "(400,) (100,)\n"
     ]
    }
   ],
   "source": [
    "data_X = ds.values[:400, :3]\n",
    "data_y = ds.values[:400, 3]\n",
    "\n",
    "test_X = ds.values[400:500, :3]\n",
    "test_y = ds.values[400:500, 3]\n",
    "\n",
    "print data_X.shape, test_X.shape\n",
    "print data_y.shape, test_y.shape"
   ]
  },
  {
   "cell_type": "code",
   "execution_count": 4,
   "metadata": {},
   "outputs": [
    {
     "data": {
      "text/plain": [
       "0.72"
      ]
     },
     "execution_count": 4,
     "metadata": {},
     "output_type": "execute_result"
    }
   ],
   "source": [
    "gnb = GaussianNB()\n",
    "\n",
    "gnb.fit(data_X, data_y)\n",
    "\n",
    "gnb.score(test_X, test_y)"
   ]
  },
  {
   "cell_type": "code",
   "execution_count": 14,
   "metadata": {},
   "outputs": [],
   "source": [
    "#test_X"
   ]
  },
  {
   "cell_type": "code",
   "execution_count": 12,
   "metadata": {},
   "outputs": [
    {
     "name": "stdout",
     "output_type": "stream",
     "text": [
      "OverWeight\n"
     ]
    }
   ],
   "source": [
    "test=[[1, 195, 104]]\n",
    "val=gnb.predict(test)\n",
    "if(val==1.0):\n",
    "    print \" Extremely Weak\"\n",
    "elif(val==2.0):\n",
    "    print \"Weak\"\n",
    "elif(val==3.0):\n",
    "    print \"Normal\"\n",
    "elif(val==4.0):\n",
    "    print \"OverWeight\"\n",
    "else:\n",
    "    print \"Extreme Obesity \""
   ]
  },
  {
   "cell_type": "code",
   "execution_count": null,
   "metadata": {},
   "outputs": [],
   "source": []
  }
 ],
 "metadata": {
  "kernelspec": {
   "display_name": "Python 2",
   "language": "python",
   "name": "python2"
  },
  "language_info": {
   "codemirror_mode": {
    "name": "ipython",
    "version": 2
   },
   "file_extension": ".py",
   "mimetype": "text/x-python",
   "name": "python",
   "nbconvert_exporter": "python",
   "pygments_lexer": "ipython2",
   "version": "2.7.12"
  }
 },
 "nbformat": 4,
 "nbformat_minor": 2
}
